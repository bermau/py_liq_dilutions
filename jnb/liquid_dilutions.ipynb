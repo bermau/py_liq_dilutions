{
 "cells": [
  {
   "cell_type": "markdown",
   "id": "8a01f496",
   "metadata": {},
   "source": [
    "# Utilitaire pour la dilution simple\n",
    "Quelques fonctions pour définir un liquide contenu dans un tube et préparer des dilutions.\n",
    "La concentration du liquide peut être exprimée en concentration (pour la chimie usuelle) ou en CT (pour la PRC). "
   ]
  },
  {
   "cell_type": "code",
   "execution_count": 2,
   "id": "883e2975",
   "metadata": {},
   "outputs": [],
   "source": [
    "import math"
   ]
  },
  {
   "cell_type": "code",
   "execution_count": 3,
   "id": "a6a4ea25",
   "metadata": {},
   "outputs": [],
   "source": [
    "def nice(flt):\n",
    "    return \"{:.2f}\".format(flt)"
   ]
  },
  {
   "cell_type": "markdown",
   "id": "2282357b",
   "metadata": {},
   "source": [
    "# Définition des classes Liquid et Aliquot"
   ]
  },
  {
   "cell_type": "code",
   "execution_count": 4,
   "id": "f9c5f368",
   "metadata": {},
   "outputs": [],
   "source": [
    "class Liquid:\n",
    "    def __init__(self, name, tag = ''):\n",
    "        \"\"\"define a liquid by it name. Possibility to add a tag (example : pure, dil 1, dil 2)\"\"\"\n",
    "        self.name = name\n",
    "        self.tag = tag\n",
    "        \n",
    "    def __repr__(self):\n",
    "        return f\"<Liquid : {self.name}/{self.tag}>\"\n",
    "        \n",
    "class Aliquot: \n",
    "    def __init__(self, liquid:Liquid, volume, concentration=None, ct=None,  unit_type = 'cc',):\n",
    "        \"\"\"La solution est en concentration, sauf si ct est indiquée.\n",
    "        \"\"\"\n",
    "        self.liquid=liquid\n",
    "        self.volume = volume\n",
    "        self.unit_type = unit_type\n",
    "        if unit_type == 'cc':\n",
    "            self.concentration = concentration\n",
    "        elif unit_type == 'ct': \n",
    "            self.ct = ct\n",
    "    \n",
    "    def __repr__(self):\n",
    "        if self.unit_type == \"cc\":\n",
    "            return f\"<Aliquot, vol : {self.volume} contenant {self.liquid}>\"\n",
    "        if self.unit_type == \"ct\":\n",
    "            return f\"<Aliquot, vol : {self.volume} contenant {self.liquid}>\""
   ]
  },
  {
   "cell_type": "code",
   "execution_count": 5,
   "id": "02226467",
   "metadata": {},
   "outputs": [],
   "source": [
    "mater = Liquid(\"COVID_Pos\")\n",
    "diluent = Liquid(\"Diluent\")\n",
    "tube1 = Aliquot(mater, 210, 154)\n",
    "tube2 = Aliquot(diluent, 1100, 0)"
   ]
  },
  {
   "cell_type": "markdown",
   "id": "901a91a8",
   "metadata": {},
   "source": [
    "# Dilution d'un liquide aliquoté dans un tube"
   ]
  },
  {
   "cell_type": "code",
   "execution_count": 6,
   "id": "c737759a",
   "metadata": {},
   "outputs": [
    {
     "data": {
      "text/plain": [
       "{'vol_mere': 11.0,\n",
       " 'vol_diluent': 44.0,\n",
       " 'tube_fille': <Aliquot, vol : 55 contenant <Liquid : COVID_Pos/fille>>}"
      ]
     },
     "execution_count": 6,
     "metadata": {},
     "output_type": "execute_result"
    }
   ],
   "source": [
    "def diluer(tube: Aliquot, dilution = 5, volume_final = 100, tag = 'fille',  comment = False):\n",
    "    \"\"\"Préparer une solution fille par dilution d'une solution mère.\"\"\"\n",
    "    source_v = volume_final / dilution\n",
    "    diluent_v = volume_final - source_v \n",
    "    liquid_fille = Liquid(tube.liquid.name, tag)\n",
    "        \n",
    "    if tube.unit_type == 'cc':\n",
    "        tube_fille = Aliquot(liquid_fille, volume_final, concentration = tube.concentration/dilution)\n",
    "    elif tube.unit_type == 'ct':\n",
    "        tube_fille = Aliquot(liquid_fille, volume_final, ct = tube.ct + math.log(dilution,2))\n",
    "        \n",
    "    if comment: \n",
    "        print(f\"Prélever {nice(source_v)} µl de solution mère {tube}, ajouter {nice(diluent_v)} de diluent \")\n",
    "        print(f\"En sortie on aura le tube : {tube_fille}\")\n",
    "       \n",
    "    return {'vol_mere' : source_v, 'vol_diluent' : diluent_v, 'tube_fille': tube_fille}\n",
    "\n",
    "diluer(tube1, 5)\n",
    "diluer(tube1, 5, volume_final = 55)"
   ]
  },
  {
   "cell_type": "markdown",
   "id": "c593268f",
   "metadata": {},
   "source": [
    "# Calcul sur les CT"
   ]
  },
  {
   "cell_type": "markdown",
   "id": "a672be2f",
   "metadata": {},
   "source": [
    "## Préparation avec N dilutions ?"
   ]
  },
  {
   "cell_type": "code",
   "execution_count": 7,
   "id": "1c0abbac",
   "metadata": {},
   "outputs": [],
   "source": [
    "class Pipette:\n",
    "    def __init__(self, nom, mini, maxi):\n",
    "        self.name = nom\n",
    "        self.min = mini\n",
    "        self.max = maxi\n",
    "\n",
    "P1000 = Pipette(\"Pip 1000\", 100, 900)\n",
    "P200 = Pipette(\"Pip 200\", 10, 200)"
   ]
  },
  {
   "cell_type": "code",
   "execution_count": 8,
   "id": "1f20eddb",
   "metadata": {},
   "outputs": [
    {
     "name": "stdout",
     "output_type": "stream",
     "text": [
      "préparer une dilution finale au : 23170.48\n",
      "Prélever 0.01 µl de solution mère <Aliquot, vol : 210 contenant <Liquid : COVID_Pos/>>, ajouter 199.99 de diluent \n",
      "En sortie on aura le tube : <Aliquot, vol : 200 contenant <Liquid : COVID_Pos/fille>>\n",
      "\n",
      "préparer une dilution finale au : 23170.48\n",
      "Nous allons préparer 3 dilutions au 28.51\n",
      "dilution 1\n",
      "Prélever 28.06 µl de solution mère <Aliquot, vol : 500 contenant <Liquid : COVID_Pos/>>, ajouter 771.94 de diluent \n",
      "En sortie on aura le tube : <Aliquot, vol : 800 contenant <Liquid : COVID_Pos/dil_1>>\n",
      "dilution 2\n",
      "Prélever 28.06 µl de solution mère <Aliquot, vol : 500 contenant <Liquid : COVID_Pos/>>, ajouter 771.94 de diluent \n",
      "En sortie on aura le tube : <Aliquot, vol : 800 contenant <Liquid : COVID_Pos/dil_2>>\n",
      "dilution 3\n",
      "Prélever 28.06 µl de solution mère <Aliquot, vol : 500 contenant <Liquid : COVID_Pos/>>, ajouter 771.94 de diluent \n",
      "En sortie on aura le tube : <Aliquot, vol : 800 contenant <Liquid : COVID_Pos/dil_3>>\n",
      "\n",
      "préparer une dilution finale au : 23170.48\n",
      "Nous allons préparer les dilution imposées puis les libres\n",
      "dilution imposée 0\n",
      "> \u001b[0;32m/tmp/ipykernel_35459/1013560929.py\u001b[0m(38)\u001b[0;36mpreparer\u001b[0;34m()\u001b[0m\n",
      "\u001b[0;32m     36 \u001b[0;31m                    \u001b[0mpdb\u001b[0m\u001b[0;34m.\u001b[0m\u001b[0mset_trace\u001b[0m\u001b[0;34m(\u001b[0m\u001b[0;34m)\u001b[0m\u001b[0;34m\u001b[0m\u001b[0;34m\u001b[0m\u001b[0m\n",
      "\u001b[0m\u001b[0;32m     37 \u001b[0;31m\u001b[0;34m\u001b[0m\u001b[0m\n",
      "\u001b[0m\u001b[0;32m---> 38 \u001b[0;31m                    \u001b[0msub_tube\u001b[0m \u001b[0;34m=\u001b[0m \u001b[0mdiluer\u001b[0m\u001b[0;34m(\u001b[0m\u001b[0mtube_en_cours_de_dil\u001b[0m\u001b[0;34m,\u001b[0m \u001b[0mdilution\u001b[0m\u001b[0;34m=\u001b[0m\u001b[0mlst_imposed_dil\u001b[0m\u001b[0;34m[\u001b[0m\u001b[0mi\u001b[0m\u001b[0;34m]\u001b[0m\u001b[0;34m[\u001b[0m\u001b[0;36m0\u001b[0m\u001b[0;34m]\u001b[0m\u001b[0;34m,\u001b[0m \u001b[0mtag\u001b[0m\u001b[0;34m=\u001b[0m\u001b[0;34m\"imposé\"\u001b[0m\u001b[0;34m+\u001b[0m\u001b[0mstr\u001b[0m\u001b[0;34m(\u001b[0m\u001b[0mi\u001b[0m\u001b[0;34m+\u001b[0m\u001b[0;36m1\u001b[0m\u001b[0;34m)\u001b[0m\u001b[0;34m)\u001b[0m\u001b[0;34m\u001b[0m\u001b[0;34m\u001b[0m\u001b[0m\n",
      "\u001b[0m\u001b[0;32m     39 \u001b[0;31m\u001b[0;34m\u001b[0m\u001b[0m\n",
      "\u001b[0m\u001b[0;32m     40 \u001b[0;31m\u001b[0;34m\u001b[0m\u001b[0m\n",
      "\u001b[0m\n",
      "ipdb> s\n",
      "--Call--\n",
      "> \u001b[0;32m/tmp/ipykernel_35459/3353032244.py\u001b[0m(1)\u001b[0;36mdiluer\u001b[0;34m()\u001b[0m\n",
      "\u001b[0;32m----> 1 \u001b[0;31m\u001b[0;32mdef\u001b[0m \u001b[0mdiluer\u001b[0m\u001b[0;34m(\u001b[0m\u001b[0mtube\u001b[0m\u001b[0;34m:\u001b[0m \u001b[0mAliquot\u001b[0m\u001b[0;34m,\u001b[0m \u001b[0mdilution\u001b[0m \u001b[0;34m=\u001b[0m \u001b[0;36m5\u001b[0m\u001b[0;34m,\u001b[0m \u001b[0mvolume_final\u001b[0m \u001b[0;34m=\u001b[0m \u001b[0;36m100\u001b[0m\u001b[0;34m,\u001b[0m \u001b[0mtag\u001b[0m \u001b[0;34m=\u001b[0m \u001b[0;34m'fille'\u001b[0m\u001b[0;34m,\u001b[0m  \u001b[0mcomment\u001b[0m \u001b[0;34m=\u001b[0m \u001b[0;32mFalse\u001b[0m\u001b[0;34m)\u001b[0m\u001b[0;34m:\u001b[0m\u001b[0;34m\u001b[0m\u001b[0;34m\u001b[0m\u001b[0m\n",
      "\u001b[0m\u001b[0;32m      2 \u001b[0;31m    \u001b[0;34m\"\"\"Préparer une solution fille par dilution d'une solution mère.\"\"\"\u001b[0m\u001b[0;34m\u001b[0m\u001b[0;34m\u001b[0m\u001b[0m\n",
      "\u001b[0m\u001b[0;32m      3 \u001b[0;31m    \u001b[0msource_v\u001b[0m \u001b[0;34m=\u001b[0m \u001b[0mvolume_final\u001b[0m \u001b[0;34m/\u001b[0m \u001b[0mdilution\u001b[0m\u001b[0;34m\u001b[0m\u001b[0;34m\u001b[0m\u001b[0m\n",
      "\u001b[0m\u001b[0;32m      4 \u001b[0;31m    \u001b[0mdiluent_v\u001b[0m \u001b[0;34m=\u001b[0m \u001b[0mvolume_final\u001b[0m \u001b[0;34m-\u001b[0m \u001b[0msource_v\u001b[0m\u001b[0;34m\u001b[0m\u001b[0;34m\u001b[0m\u001b[0m\n",
      "\u001b[0m\u001b[0;32m      5 \u001b[0;31m    \u001b[0mliquid_fille\u001b[0m \u001b[0;34m=\u001b[0m \u001b[0mLiquid\u001b[0m\u001b[0;34m(\u001b[0m\u001b[0mtube\u001b[0m\u001b[0;34m.\u001b[0m\u001b[0mliquid\u001b[0m\u001b[0;34m.\u001b[0m\u001b[0mname\u001b[0m\u001b[0;34m,\u001b[0m \u001b[0mtag\u001b[0m\u001b[0;34m)\u001b[0m\u001b[0;34m\u001b[0m\u001b[0;34m\u001b[0m\u001b[0m\n",
      "\u001b[0m\n",
      "ipdb> n\n",
      "> \u001b[0;32m/tmp/ipykernel_35459/3353032244.py\u001b[0m(3)\u001b[0;36mdiluer\u001b[0;34m()\u001b[0m\n",
      "\u001b[0;32m      1 \u001b[0;31m\u001b[0;32mdef\u001b[0m \u001b[0mdiluer\u001b[0m\u001b[0;34m(\u001b[0m\u001b[0mtube\u001b[0m\u001b[0;34m:\u001b[0m \u001b[0mAliquot\u001b[0m\u001b[0;34m,\u001b[0m \u001b[0mdilution\u001b[0m \u001b[0;34m=\u001b[0m \u001b[0;36m5\u001b[0m\u001b[0;34m,\u001b[0m \u001b[0mvolume_final\u001b[0m \u001b[0;34m=\u001b[0m \u001b[0;36m100\u001b[0m\u001b[0;34m,\u001b[0m \u001b[0mtag\u001b[0m \u001b[0;34m=\u001b[0m \u001b[0;34m'fille'\u001b[0m\u001b[0;34m,\u001b[0m  \u001b[0mcomment\u001b[0m \u001b[0;34m=\u001b[0m \u001b[0;32mFalse\u001b[0m\u001b[0;34m)\u001b[0m\u001b[0;34m:\u001b[0m\u001b[0;34m\u001b[0m\u001b[0;34m\u001b[0m\u001b[0m\n",
      "\u001b[0m\u001b[0;32m      2 \u001b[0;31m    \u001b[0;34m\"\"\"Préparer une solution fille par dilution d'une solution mère.\"\"\"\u001b[0m\u001b[0;34m\u001b[0m\u001b[0;34m\u001b[0m\u001b[0m\n",
      "\u001b[0m\u001b[0;32m----> 3 \u001b[0;31m    \u001b[0msource_v\u001b[0m \u001b[0;34m=\u001b[0m \u001b[0mvolume_final\u001b[0m \u001b[0;34m/\u001b[0m \u001b[0mdilution\u001b[0m\u001b[0;34m\u001b[0m\u001b[0;34m\u001b[0m\u001b[0m\n",
      "\u001b[0m\u001b[0;32m      4 \u001b[0;31m    \u001b[0mdiluent_v\u001b[0m \u001b[0;34m=\u001b[0m \u001b[0mvolume_final\u001b[0m \u001b[0;34m-\u001b[0m \u001b[0msource_v\u001b[0m\u001b[0;34m\u001b[0m\u001b[0;34m\u001b[0m\u001b[0m\n",
      "\u001b[0m\u001b[0;32m      5 \u001b[0;31m    \u001b[0mliquid_fille\u001b[0m \u001b[0;34m=\u001b[0m \u001b[0mLiquid\u001b[0m\u001b[0;34m(\u001b[0m\u001b[0mtube\u001b[0m\u001b[0;34m.\u001b[0m\u001b[0mliquid\u001b[0m\u001b[0;34m.\u001b[0m\u001b[0mname\u001b[0m\u001b[0;34m,\u001b[0m \u001b[0mtag\u001b[0m\u001b[0;34m)\u001b[0m\u001b[0;34m\u001b[0m\u001b[0;34m\u001b[0m\u001b[0m\n",
      "\u001b[0m\n",
      "ipdb> tube.unit_type\n",
      "'ct'\n",
      "ipdb> n\n",
      "> \u001b[0;32m/tmp/ipykernel_35459/3353032244.py\u001b[0m(4)\u001b[0;36mdiluer\u001b[0;34m()\u001b[0m\n",
      "\u001b[0;32m      2 \u001b[0;31m    \u001b[0;34m\"\"\"Préparer une solution fille par dilution d'une solution mère.\"\"\"\u001b[0m\u001b[0;34m\u001b[0m\u001b[0;34m\u001b[0m\u001b[0m\n",
      "\u001b[0m\u001b[0;32m      3 \u001b[0;31m    \u001b[0msource_v\u001b[0m \u001b[0;34m=\u001b[0m \u001b[0mvolume_final\u001b[0m \u001b[0;34m/\u001b[0m \u001b[0mdilution\u001b[0m\u001b[0;34m\u001b[0m\u001b[0;34m\u001b[0m\u001b[0m\n",
      "\u001b[0m\u001b[0;32m----> 4 \u001b[0;31m    \u001b[0mdiluent_v\u001b[0m \u001b[0;34m=\u001b[0m \u001b[0mvolume_final\u001b[0m \u001b[0;34m-\u001b[0m \u001b[0msource_v\u001b[0m\u001b[0;34m\u001b[0m\u001b[0;34m\u001b[0m\u001b[0m\n",
      "\u001b[0m\u001b[0;32m      5 \u001b[0;31m    \u001b[0mliquid_fille\u001b[0m \u001b[0;34m=\u001b[0m \u001b[0mLiquid\u001b[0m\u001b[0;34m(\u001b[0m\u001b[0mtube\u001b[0m\u001b[0;34m.\u001b[0m\u001b[0mliquid\u001b[0m\u001b[0;34m.\u001b[0m\u001b[0mname\u001b[0m\u001b[0;34m,\u001b[0m \u001b[0mtag\u001b[0m\u001b[0;34m)\u001b[0m\u001b[0;34m\u001b[0m\u001b[0;34m\u001b[0m\u001b[0m\n",
      "\u001b[0m\u001b[0;32m      6 \u001b[0;31m\u001b[0;34m\u001b[0m\u001b[0m\n",
      "\u001b[0m\n",
      "ipdb> n\n",
      "> \u001b[0;32m/tmp/ipykernel_35459/3353032244.py\u001b[0m(5)\u001b[0;36mdiluer\u001b[0;34m()\u001b[0m\n",
      "\u001b[0;32m      3 \u001b[0;31m    \u001b[0msource_v\u001b[0m \u001b[0;34m=\u001b[0m \u001b[0mvolume_final\u001b[0m \u001b[0;34m/\u001b[0m \u001b[0mdilution\u001b[0m\u001b[0;34m\u001b[0m\u001b[0;34m\u001b[0m\u001b[0m\n",
      "\u001b[0m\u001b[0;32m      4 \u001b[0;31m    \u001b[0mdiluent_v\u001b[0m \u001b[0;34m=\u001b[0m \u001b[0mvolume_final\u001b[0m \u001b[0;34m-\u001b[0m \u001b[0msource_v\u001b[0m\u001b[0;34m\u001b[0m\u001b[0;34m\u001b[0m\u001b[0m\n",
      "\u001b[0m\u001b[0;32m----> 5 \u001b[0;31m    \u001b[0mliquid_fille\u001b[0m \u001b[0;34m=\u001b[0m \u001b[0mLiquid\u001b[0m\u001b[0;34m(\u001b[0m\u001b[0mtube\u001b[0m\u001b[0;34m.\u001b[0m\u001b[0mliquid\u001b[0m\u001b[0;34m.\u001b[0m\u001b[0mname\u001b[0m\u001b[0;34m,\u001b[0m \u001b[0mtag\u001b[0m\u001b[0;34m)\u001b[0m\u001b[0;34m\u001b[0m\u001b[0;34m\u001b[0m\u001b[0m\n",
      "\u001b[0m\u001b[0;32m      6 \u001b[0;31m\u001b[0;34m\u001b[0m\u001b[0m\n",
      "\u001b[0m\u001b[0;32m      7 \u001b[0;31m    \u001b[0;32mif\u001b[0m \u001b[0mtube\u001b[0m\u001b[0;34m.\u001b[0m\u001b[0munit_type\u001b[0m \u001b[0;34m==\u001b[0m \u001b[0;34m'cc'\u001b[0m\u001b[0;34m:\u001b[0m\u001b[0;34m\u001b[0m\u001b[0;34m\u001b[0m\u001b[0m\n",
      "\u001b[0m\n",
      "ipdb> n\n",
      "> \u001b[0;32m/tmp/ipykernel_35459/3353032244.py\u001b[0m(7)\u001b[0;36mdiluer\u001b[0;34m()\u001b[0m\n",
      "\u001b[0;32m      5 \u001b[0;31m    \u001b[0mliquid_fille\u001b[0m \u001b[0;34m=\u001b[0m \u001b[0mLiquid\u001b[0m\u001b[0;34m(\u001b[0m\u001b[0mtube\u001b[0m\u001b[0;34m.\u001b[0m\u001b[0mliquid\u001b[0m\u001b[0;34m.\u001b[0m\u001b[0mname\u001b[0m\u001b[0;34m,\u001b[0m \u001b[0mtag\u001b[0m\u001b[0;34m)\u001b[0m\u001b[0;34m\u001b[0m\u001b[0;34m\u001b[0m\u001b[0m\n",
      "\u001b[0m\u001b[0;32m      6 \u001b[0;31m\u001b[0;34m\u001b[0m\u001b[0m\n",
      "\u001b[0m\u001b[0;32m----> 7 \u001b[0;31m    \u001b[0;32mif\u001b[0m \u001b[0mtube\u001b[0m\u001b[0;34m.\u001b[0m\u001b[0munit_type\u001b[0m \u001b[0;34m==\u001b[0m \u001b[0;34m'cc'\u001b[0m\u001b[0;34m:\u001b[0m\u001b[0;34m\u001b[0m\u001b[0;34m\u001b[0m\u001b[0m\n",
      "\u001b[0m\u001b[0;32m      8 \u001b[0;31m        \u001b[0mtube_fille\u001b[0m \u001b[0;34m=\u001b[0m \u001b[0mAliquot\u001b[0m\u001b[0;34m(\u001b[0m\u001b[0mliquid_fille\u001b[0m\u001b[0;34m,\u001b[0m \u001b[0mvolume_final\u001b[0m\u001b[0;34m,\u001b[0m \u001b[0mconcentration\u001b[0m \u001b[0;34m=\u001b[0m \u001b[0mtube\u001b[0m\u001b[0;34m.\u001b[0m\u001b[0mconcentration\u001b[0m\u001b[0;34m/\u001b[0m\u001b[0mdilution\u001b[0m\u001b[0;34m)\u001b[0m\u001b[0;34m\u001b[0m\u001b[0;34m\u001b[0m\u001b[0m\n",
      "\u001b[0m\u001b[0;32m      9 \u001b[0;31m    \u001b[0;32melif\u001b[0m \u001b[0mtube\u001b[0m\u001b[0;34m.\u001b[0m\u001b[0munit_type\u001b[0m \u001b[0;34m==\u001b[0m \u001b[0;34m'ct'\u001b[0m\u001b[0;34m:\u001b[0m\u001b[0;34m\u001b[0m\u001b[0;34m\u001b[0m\u001b[0m\n",
      "\u001b[0m\n",
      "ipdb> n\n",
      "> \u001b[0;32m/tmp/ipykernel_35459/3353032244.py\u001b[0m(9)\u001b[0;36mdiluer\u001b[0;34m()\u001b[0m\n",
      "\u001b[0;32m      7 \u001b[0;31m    \u001b[0;32mif\u001b[0m \u001b[0mtube\u001b[0m\u001b[0;34m.\u001b[0m\u001b[0munit_type\u001b[0m \u001b[0;34m==\u001b[0m \u001b[0;34m'cc'\u001b[0m\u001b[0;34m:\u001b[0m\u001b[0;34m\u001b[0m\u001b[0;34m\u001b[0m\u001b[0m\n",
      "\u001b[0m\u001b[0;32m      8 \u001b[0;31m        \u001b[0mtube_fille\u001b[0m \u001b[0;34m=\u001b[0m \u001b[0mAliquot\u001b[0m\u001b[0;34m(\u001b[0m\u001b[0mliquid_fille\u001b[0m\u001b[0;34m,\u001b[0m \u001b[0mvolume_final\u001b[0m\u001b[0;34m,\u001b[0m \u001b[0mconcentration\u001b[0m \u001b[0;34m=\u001b[0m \u001b[0mtube\u001b[0m\u001b[0;34m.\u001b[0m\u001b[0mconcentration\u001b[0m\u001b[0;34m/\u001b[0m\u001b[0mdilution\u001b[0m\u001b[0;34m)\u001b[0m\u001b[0;34m\u001b[0m\u001b[0;34m\u001b[0m\u001b[0m\n",
      "\u001b[0m\u001b[0;32m----> 9 \u001b[0;31m    \u001b[0;32melif\u001b[0m \u001b[0mtube\u001b[0m\u001b[0;34m.\u001b[0m\u001b[0munit_type\u001b[0m \u001b[0;34m==\u001b[0m \u001b[0;34m'ct'\u001b[0m\u001b[0;34m:\u001b[0m\u001b[0;34m\u001b[0m\u001b[0;34m\u001b[0m\u001b[0m\n",
      "\u001b[0m\u001b[0;32m     10 \u001b[0;31m        \u001b[0mtube_fille\u001b[0m \u001b[0;34m=\u001b[0m \u001b[0mAliquot\u001b[0m\u001b[0;34m(\u001b[0m\u001b[0mliquid_fille\u001b[0m\u001b[0;34m,\u001b[0m \u001b[0mvolume_final\u001b[0m\u001b[0;34m,\u001b[0m \u001b[0mct\u001b[0m \u001b[0;34m=\u001b[0m \u001b[0mtube\u001b[0m\u001b[0;34m.\u001b[0m\u001b[0mct\u001b[0m \u001b[0;34m+\u001b[0m \u001b[0mmath\u001b[0m\u001b[0;34m.\u001b[0m\u001b[0mlog\u001b[0m\u001b[0;34m(\u001b[0m\u001b[0mdilution\u001b[0m\u001b[0;34m,\u001b[0m\u001b[0;36m2\u001b[0m\u001b[0;34m)\u001b[0m\u001b[0;34m)\u001b[0m\u001b[0;34m\u001b[0m\u001b[0;34m\u001b[0m\u001b[0m\n",
      "\u001b[0m\u001b[0;32m     11 \u001b[0;31m\u001b[0;34m\u001b[0m\u001b[0m\n",
      "\u001b[0m\n",
      "ipdb> n\n",
      "> \u001b[0;32m/tmp/ipykernel_35459/3353032244.py\u001b[0m(10)\u001b[0;36mdiluer\u001b[0;34m()\u001b[0m\n",
      "\u001b[0;32m      8 \u001b[0;31m        \u001b[0mtube_fille\u001b[0m \u001b[0;34m=\u001b[0m \u001b[0mAliquot\u001b[0m\u001b[0;34m(\u001b[0m\u001b[0mliquid_fille\u001b[0m\u001b[0;34m,\u001b[0m \u001b[0mvolume_final\u001b[0m\u001b[0;34m,\u001b[0m \u001b[0mconcentration\u001b[0m \u001b[0;34m=\u001b[0m \u001b[0mtube\u001b[0m\u001b[0;34m.\u001b[0m\u001b[0mconcentration\u001b[0m\u001b[0;34m/\u001b[0m\u001b[0mdilution\u001b[0m\u001b[0;34m)\u001b[0m\u001b[0;34m\u001b[0m\u001b[0;34m\u001b[0m\u001b[0m\n",
      "\u001b[0m\u001b[0;32m      9 \u001b[0;31m    \u001b[0;32melif\u001b[0m \u001b[0mtube\u001b[0m\u001b[0;34m.\u001b[0m\u001b[0munit_type\u001b[0m \u001b[0;34m==\u001b[0m \u001b[0;34m'ct'\u001b[0m\u001b[0;34m:\u001b[0m\u001b[0;34m\u001b[0m\u001b[0;34m\u001b[0m\u001b[0m\n",
      "\u001b[0m\u001b[0;32m---> 10 \u001b[0;31m        \u001b[0mtube_fille\u001b[0m \u001b[0;34m=\u001b[0m \u001b[0mAliquot\u001b[0m\u001b[0;34m(\u001b[0m\u001b[0mliquid_fille\u001b[0m\u001b[0;34m,\u001b[0m \u001b[0mvolume_final\u001b[0m\u001b[0;34m,\u001b[0m \u001b[0mct\u001b[0m \u001b[0;34m=\u001b[0m \u001b[0mtube\u001b[0m\u001b[0;34m.\u001b[0m\u001b[0mct\u001b[0m \u001b[0;34m+\u001b[0m \u001b[0mmath\u001b[0m\u001b[0;34m.\u001b[0m\u001b[0mlog\u001b[0m\u001b[0;34m(\u001b[0m\u001b[0mdilution\u001b[0m\u001b[0;34m,\u001b[0m\u001b[0;36m2\u001b[0m\u001b[0;34m)\u001b[0m\u001b[0;34m)\u001b[0m\u001b[0;34m\u001b[0m\u001b[0;34m\u001b[0m\u001b[0m\n",
      "\u001b[0m\u001b[0;32m     11 \u001b[0;31m\u001b[0;34m\u001b[0m\u001b[0m\n",
      "\u001b[0m\u001b[0;32m     12 \u001b[0;31m    \u001b[0;32mif\u001b[0m \u001b[0mcomment\u001b[0m\u001b[0;34m:\u001b[0m\u001b[0;34m\u001b[0m\u001b[0;34m\u001b[0m\u001b[0m\n",
      "\u001b[0m\n"
     ]
    },
    {
     "name": "stdout",
     "output_type": "stream",
     "text": [
      "ipdb> n\n",
      "> \u001b[0;32m/tmp/ipykernel_35459/3353032244.py\u001b[0m(12)\u001b[0;36mdiluer\u001b[0;34m()\u001b[0m\n",
      "\u001b[0;32m     10 \u001b[0;31m        \u001b[0mtube_fille\u001b[0m \u001b[0;34m=\u001b[0m \u001b[0mAliquot\u001b[0m\u001b[0;34m(\u001b[0m\u001b[0mliquid_fille\u001b[0m\u001b[0;34m,\u001b[0m \u001b[0mvolume_final\u001b[0m\u001b[0;34m,\u001b[0m \u001b[0mct\u001b[0m \u001b[0;34m=\u001b[0m \u001b[0mtube\u001b[0m\u001b[0;34m.\u001b[0m\u001b[0mct\u001b[0m \u001b[0;34m+\u001b[0m \u001b[0mmath\u001b[0m\u001b[0;34m.\u001b[0m\u001b[0mlog\u001b[0m\u001b[0;34m(\u001b[0m\u001b[0mdilution\u001b[0m\u001b[0;34m,\u001b[0m\u001b[0;36m2\u001b[0m\u001b[0;34m)\u001b[0m\u001b[0;34m)\u001b[0m\u001b[0;34m\u001b[0m\u001b[0;34m\u001b[0m\u001b[0m\n",
      "\u001b[0m\u001b[0;32m     11 \u001b[0;31m\u001b[0;34m\u001b[0m\u001b[0m\n",
      "\u001b[0m\u001b[0;32m---> 12 \u001b[0;31m    \u001b[0;32mif\u001b[0m \u001b[0mcomment\u001b[0m\u001b[0;34m:\u001b[0m\u001b[0;34m\u001b[0m\u001b[0;34m\u001b[0m\u001b[0m\n",
      "\u001b[0m\u001b[0;32m     13 \u001b[0;31m        \u001b[0mprint\u001b[0m\u001b[0;34m(\u001b[0m\u001b[0;34mf\"Prélever {nice(source_v)} µl de solution mère {tube}, ajouter {nice(diluent_v)} de diluent \"\u001b[0m\u001b[0;34m)\u001b[0m\u001b[0;34m\u001b[0m\u001b[0;34m\u001b[0m\u001b[0m\n",
      "\u001b[0m\u001b[0;32m     14 \u001b[0;31m        \u001b[0mprint\u001b[0m\u001b[0;34m(\u001b[0m\u001b[0;34mf\"En sortie on aura le tube : {tube_fille}\"\u001b[0m\u001b[0;34m)\u001b[0m\u001b[0;34m\u001b[0m\u001b[0;34m\u001b[0m\u001b[0m\n",
      "\u001b[0m\n",
      "ipdb> tube_fille\n",
      "<Aliquot, vol : 100 contenant <Liquid : COVID_Pos/imposé1>>\n",
      "ipdb> tube_fille.unit_type\n",
      "'cc'\n",
      "ipdb> c\n"
     ]
    },
    {
     "ename": "AttributeError",
     "evalue": "'Aliquot' object has no attribute 'ct'",
     "output_type": "error",
     "traceback": [
      "\u001b[0;31m---------------------------------------------------------------------------\u001b[0m",
      "\u001b[0;31mAttributeError\u001b[0m                            Traceback (most recent call last)",
      "\u001b[0;32m/tmp/ipykernel_35459/1013560929.py\u001b[0m in \u001b[0;36m<module>\u001b[0;34m\u001b[0m\n\u001b[1;32m     63\u001b[0m \u001b[0mpreparer\u001b[0m\u001b[0;34m(\u001b[0m\u001b[0;36m800\u001b[0m\u001b[0;34m,\u001b[0m \u001b[0;36m35\u001b[0m\u001b[0;34m,\u001b[0m \u001b[0mtube_ct_mere\u001b[0m\u001b[0;34m,\u001b[0m \u001b[0mn_dil\u001b[0m\u001b[0;34m=\u001b[0m\u001b[0;36m3\u001b[0m\u001b[0;34m,\u001b[0m \u001b[0mcomment\u001b[0m\u001b[0;34m=\u001b[0m\u001b[0;32mTrue\u001b[0m\u001b[0;34m)\u001b[0m\u001b[0;34m\u001b[0m\u001b[0;34m\u001b[0m\u001b[0m\n\u001b[1;32m     64\u001b[0m \u001b[0mprint\u001b[0m\u001b[0;34m(\u001b[0m\u001b[0;34m)\u001b[0m\u001b[0;34m\u001b[0m\u001b[0;34m\u001b[0m\u001b[0m\n\u001b[0;32m---> 65\u001b[0;31m \u001b[0mpreparer\u001b[0m\u001b[0;34m(\u001b[0m\u001b[0;36m800\u001b[0m\u001b[0;34m,\u001b[0m \u001b[0;36m35\u001b[0m\u001b[0;34m,\u001b[0m \u001b[0mtube_ct_mere\u001b[0m\u001b[0;34m,\u001b[0m \u001b[0mn_dil\u001b[0m\u001b[0;34m=\u001b[0m\u001b[0;36m3\u001b[0m\u001b[0;34m,\u001b[0m \u001b[0mlst_imposed_dil\u001b[0m \u001b[0;34m=\u001b[0m \u001b[0;34m[\u001b[0m\u001b[0;34m[\u001b[0m\u001b[0;36m100\u001b[0m\u001b[0;34m,\u001b[0m \u001b[0;36m500\u001b[0m\u001b[0;34m]\u001b[0m\u001b[0;34m,\u001b[0m \u001b[0;34m[\u001b[0m\u001b[0;36m50\u001b[0m\u001b[0;34m,\u001b[0m\u001b[0;36m100\u001b[0m\u001b[0;34m]\u001b[0m\u001b[0;34m]\u001b[0m\u001b[0;34m,\u001b[0m \u001b[0mcomment\u001b[0m\u001b[0;34m=\u001b[0m\u001b[0;32mTrue\u001b[0m\u001b[0;34m)\u001b[0m\u001b[0;34m\u001b[0m\u001b[0;34m\u001b[0m\u001b[0m\n\u001b[0m",
      "\u001b[0;32m/tmp/ipykernel_35459/1013560929.py\u001b[0m in \u001b[0;36mpreparer\u001b[0;34m(vf, ct_cc_cible, tube, n_dil, lst_imposed_dil, comment)\u001b[0m\n\u001b[1;32m     42\u001b[0m                     print(\"CONCENTRATION\", sub_tube['tube_fille'].concentration, \n\u001b[1;32m     43\u001b[0m                           \u001b[0msub_tube\u001b[0m\u001b[0;34m[\u001b[0m\u001b[0;34m'tube_fille'\u001b[0m\u001b[0;34m]\u001b[0m\u001b[0;34m.\u001b[0m\u001b[0munit_type\u001b[0m\u001b[0;34m,\u001b[0m\u001b[0;34m\u001b[0m\u001b[0;34m\u001b[0m\u001b[0m\n\u001b[0;32m---> 44\u001b[0;31m                          sub_tube['tube_fille'].ct)\n\u001b[0m\u001b[1;32m     45\u001b[0m \u001b[0;34m\u001b[0m\u001b[0m\n\u001b[1;32m     46\u001b[0m                 \u001b[0;32melse\u001b[0m\u001b[0;34m:\u001b[0m\u001b[0;34m\u001b[0m\u001b[0;34m\u001b[0m\u001b[0m\n",
      "\u001b[0;31mAttributeError\u001b[0m: 'Aliquot' object has no attribute 'ct'"
     ]
    }
   ],
   "source": [
    "def preparer(vf, ct_cc_cible, tube, n_dil = 1, lst_imposed_dil = None,  comment=False):\n",
    "    \"\"\"\n",
    "    Obtenir un volume vf à concentration finale de CT ct_cc_cible à partir d'un Aliquot en tube dont le CT est connu\n",
    "    lst_imposed_dil est une liste de dilutions pour forcer les première dilutions\n",
    "    \"\"\"\n",
    "    # produit \n",
    "    if tube.unit_type == 'cc':\n",
    "        dilution = tube.concentration / ct_cc_cible \n",
    "    elif tube.unit_type == 'ct':\n",
    "        dilution = pow(2, ct_cc_cible-tube.ct)\n",
    "    \n",
    "    dilution_elementaire = dilution ** (1/n_dil)\n",
    "    \n",
    "    if comment:\n",
    "        print(f\"préparer une dilution finale au : {nice(dilution)}\")\n",
    "        \n",
    "    \n",
    "    if n_dil == 1 : \n",
    "        dico = diluer(tube1 , dilution = dilution, volume_final=vf, comment=True)\n",
    "        return [ dico ]\n",
    "    \n",
    "    elif n_dil > 1 :\n",
    "        list_dil = []\n",
    "        if lst_imposed_dil:\n",
    "            # Verifier n_dil sup a liste\n",
    "            assert len(lst_imposed_dil) < n_dil\n",
    "            if comment: \n",
    "                print(\"Nous allons préparer les dilution imposées puis les libres\")\n",
    "            sub_tube = None # {} # contiendra la succession des dilutions\n",
    "            tube_en_cours_de_dil = tube\n",
    "            for i in range(n_dil):                \n",
    "                if i < len(lst_imposed_dil):\n",
    "                    print(\"dilution imposée\", i)\n",
    "                \n",
    "                    import pdb\n",
    "                    pdb.set_trace()\n",
    "                \n",
    "                    sub_tube = diluer(tube_en_cours_de_dil, dilution=lst_imposed_dil[i][0], tag=\"imposé\"+str(i+1))\n",
    "                    \n",
    "                    \n",
    "                    list_dil.append(sub_tube)\n",
    "                    print(\"CONCENTRATION\", sub_tube['tube_fille'].concentration, \n",
    "                          sub_tube['tube_fille'].unit_type, \n",
    "                         sub_tube['tube_fille'].ct)\n",
    "                    \n",
    "                else:\n",
    "                    list_dil.append(\"Et il reste une dilution ! \")\n",
    "                    \n",
    "        else:\n",
    "        # N dilutions successives identiques\n",
    "            if comment: \n",
    "                print(f\"Nous allons préparer {n_dil} dilutions au {nice(dilution_elementaire)}\")\n",
    "            for i in range(0, n_dil):\n",
    "                print(\"dilution\", i+1)\n",
    "                dico = diluer(tube, dilution=dilution_elementaire, tag='dil_' + str(i+1), volume_final=vf, comment=True)  \n",
    "                list_dil.append(dico)\n",
    "                \n",
    "        return list_dil\n",
    "    \n",
    "tube_ct_mere = Aliquot(mater, 500, ct=20.5, unit_type='ct')\n",
    "preparer(200, 35, tube_ct_mere, comment=True)\n",
    "print()\n",
    "preparer(800, 35, tube_ct_mere, n_dil=3, comment=True)\n",
    "print()\n",
    "preparer(800, 35, tube_ct_mere, n_dil=3, lst_imposed_dil = [[100, 500], [50,100]], comment=True)"
   ]
  },
  {
   "cell_type": "code",
   "execution_count": null,
   "id": "b51f4771",
   "metadata": {},
   "outputs": [],
   "source": []
  },
  {
   "cell_type": "markdown",
   "id": "8f5d1171",
   "metadata": {},
   "source": [
    "# Tests"
   ]
  },
  {
   "cell_type": "code",
   "execution_count": 1,
   "id": "a3009199",
   "metadata": {},
   "outputs": [
    {
     "ename": "NameError",
     "evalue": "name 'Liquid' is not defined",
     "output_type": "error",
     "traceback": [
      "\u001b[0;31m---------------------------------------------------------------------------\u001b[0m",
      "\u001b[0;31mNameError\u001b[0m                                 Traceback (most recent call last)",
      "\u001b[0;32m/tmp/ipykernel_35459/3241570902.py\u001b[0m in \u001b[0;36m<module>\u001b[0;34m\u001b[0m\n\u001b[0;32m----> 1\u001b[0;31m \u001b[0mmater\u001b[0m \u001b[0;34m=\u001b[0m \u001b[0mLiquid\u001b[0m\u001b[0;34m(\u001b[0m\u001b[0;34m\"COVID\"\u001b[0m\u001b[0;34m)\u001b[0m\u001b[0;34m\u001b[0m\u001b[0;34m\u001b[0m\u001b[0m\n\u001b[0m\u001b[1;32m      2\u001b[0m \u001b[0mdiluent\u001b[0m \u001b[0;34m=\u001b[0m \u001b[0mLiquid\u001b[0m\u001b[0;34m(\u001b[0m\u001b[0;34m\"Diluent\"\u001b[0m\u001b[0;34m)\u001b[0m\u001b[0;34m\u001b[0m\u001b[0;34m\u001b[0m\u001b[0m\n\u001b[1;32m      3\u001b[0m \u001b[0mtube1\u001b[0m \u001b[0;34m=\u001b[0m \u001b[0mAliquot\u001b[0m\u001b[0;34m(\u001b[0m\u001b[0mmater\u001b[0m\u001b[0;34m,\u001b[0m \u001b[0;36m200\u001b[0m\u001b[0;34m,\u001b[0m \u001b[0;36m154\u001b[0m\u001b[0;34m)\u001b[0m\u001b[0;34m\u001b[0m\u001b[0;34m\u001b[0m\u001b[0m\n\u001b[1;32m      4\u001b[0m \u001b[0mtube2\u001b[0m \u001b[0;34m=\u001b[0m \u001b[0mAliquot\u001b[0m\u001b[0;34m(\u001b[0m\u001b[0mdiluent\u001b[0m\u001b[0;34m,\u001b[0m \u001b[0;36m1000\u001b[0m\u001b[0;34m,\u001b[0m \u001b[0;36m0\u001b[0m\u001b[0;34m)\u001b[0m\u001b[0;34m\u001b[0m\u001b[0;34m\u001b[0m\u001b[0m\n\u001b[1;32m      5\u001b[0m \u001b[0;34m\u001b[0m\u001b[0m\n",
      "\u001b[0;31mNameError\u001b[0m: name 'Liquid' is not defined"
     ]
    }
   ],
   "source": [
    "mater = Liquid(\"COVID\")\n",
    "diluent = Liquid(\"Diluent\")\n",
    "tube1 = Aliquot(mater, 200, 154)\n",
    "tube2 = Aliquot(diluent, 1000, 0)\n",
    "\n",
    "print(tube1)\n",
    "print(tube2)\n",
    "preparer(200, 15, tube1)\n",
    "\n",
    "preparer(200, 35, tube_ct_mere, comment = True)"
   ]
  },
  {
   "cell_type": "code",
   "execution_count": null,
   "id": "285ab3e1",
   "metadata": {},
   "outputs": [],
   "source": []
  },
  {
   "cell_type": "code",
   "execution_count": null,
   "id": "0dc42e72",
   "metadata": {},
   "outputs": [],
   "source": []
  }
 ],
 "metadata": {
  "kernelspec": {
   "display_name": "Python 3 (ipykernel)",
   "language": "python",
   "name": "python3"
  },
  "language_info": {
   "codemirror_mode": {
    "name": "ipython",
    "version": 3
   },
   "file_extension": ".py",
   "mimetype": "text/x-python",
   "name": "python",
   "nbconvert_exporter": "python",
   "pygments_lexer": "ipython3",
   "version": "3.10.6"
  }
 },
 "nbformat": 4,
 "nbformat_minor": 5
}
